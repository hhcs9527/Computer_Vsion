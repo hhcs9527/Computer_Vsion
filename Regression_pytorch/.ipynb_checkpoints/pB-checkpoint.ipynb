{
 "cells": [
  {
   "cell_type": "code",
   "execution_count": 1,
   "metadata": {
    "colab": {
     "base_uri": "https://localhost:8080/",
     "height": 306
    },
    "colab_type": "code",
    "executionInfo": {
     "elapsed": 75279,
     "status": "ok",
     "timestamp": 1575973531404,
     "user": {
      "displayName": "Hank Huang",
      "photoUrl": "",
      "userId": "09805881446555873952"
     },
     "user_tz": -480
    },
    "id": "D4EmEMf-sqht",
    "outputId": "06bdb748-a55a-405a-da1c-06efbee6d5d1"
   },
   "outputs": [
    {
     "name": "stdout",
     "output_type": "stream",
     "text": [
      "--2019-12-10 10:24:19--  http://140.114.76.113:8000/ccpd6000.zip\n",
      "Connecting to 140.114.76.113:8000... connected.\n",
      "HTTP request sent, awaiting response... 200 OK\n",
      "Length: 332013713 (317M) [application/zip]\n",
      "Saving to: ‘ccpd6000.zip’\n",
      "\n",
      "ccpd6000.zip        100%[===================>] 316.63M  8.06MB/s    in 61s     \n",
      "\n",
      "2019-12-10 10:25:20 (5.22 MB/s) - ‘ccpd6000.zip’ saved [332013713/332013713]\n",
      "\n",
      "total 317M\n",
      "drwxr-xr-x 1 root root 4.0K Dec 10 10:25 .\n",
      "drwxr-xr-x 1 root root 4.0K Dec 10 10:23 ..\n",
      "drwxr-xr-x 4 root root 4.0K Nov 19 11:35 ccpd6000\n",
      "-rw-r--r-- 1 root root 317M Nov 19 11:44 ccpd6000.zip\n",
      "drwxr-xr-x 1 root root 4.0K Dec  6 16:53 .config\n",
      "drwxr-xr-x 1 root root 4.0K Dec  6 16:53 sample_data\n"
     ]
    }
   ],
   "source": [
    "!wget -nc 140.114.76.113:8000/ccpd6000.zip\n",
    "!unzip -nq ccpd6000.zip\n",
    "!ls -alh"
   ]
  },
  {
   "cell_type": "code",
   "execution_count": 2,
   "metadata": {
    "colab": {
     "base_uri": "https://localhost:8080/",
     "height": 34
    },
    "colab_type": "code",
    "executionInfo": {
     "elapsed": 79187,
     "status": "ok",
     "timestamp": 1575973535321,
     "user": {
      "displayName": "Hank Huang",
      "photoUrl": "",
      "userId": "09805881446555873952"
     },
     "user_tz": -480
    },
    "id": "pnO0QqPmvwvL",
    "outputId": "887310d4-d289-4984-a911-68164401d639"
   },
   "outputs": [
    {
     "name": "stdout",
     "output_type": "stream",
     "text": [
      "977d7124a53e565c3f2b371a871ee04ebbe572f07deb0b38c5548ddaae0cb2c9  ccpd6000.zip\n"
     ]
    }
   ],
   "source": [
    "!sha256sum ccpd6000.zip"
   ]
  },
  {
   "cell_type": "code",
   "execution_count": 0,
   "metadata": {
    "colab": {},
    "colab_type": "code",
    "id": "9bhbyOKjsrXa"
   },
   "outputs": [],
   "source": [
    "import random\n",
    "import numpy as np\n",
    "import pandas as pd\n",
    "from pathlib import Path\n",
    "from datetime import datetime\n",
    "import matplotlib.pyplot as plt\n",
    "from PIL import Image, ImageDraw\n",
    "from IPython import display\n",
    "\n",
    "import torch\n",
    "from torch import nn\n",
    "from torch.nn import functional as F\n",
    "from torchvision.transforms import functional as tf\n",
    "from torch.utils.data import DataLoader, Dataset, Subset, ConcatDataset\n",
    "\n",
    "# Fix the seed for reproducibility\n",
    "seed = 999\n",
    "random.seed(seed)\n",
    "np.random.seed(seed)\n",
    "torch.manual_seed(seed)\n",
    "torch.backends.cudnn.deterministic = True\n",
    "Learning_rate = 1e-3\n",
    "\n",
    "# Some constants\n",
    "FIELDS = ['BR_x', 'BR_y', 'BL_x', 'BL_y', 'TL_x', 'TL_y', 'TR_x', 'TR_y'] # the fields in csv\n",
    "IMG_SIZE = (192, 320) # the input image size (width, height) of the model\n",
    "ROOT_DIR = Path('./ccpd6000/') # the root directory of the dataset\n",
    "LEARNING_RATE = 1e-3\n",
    "\n",
    "device = torch.device(\"cuda\" if torch.cuda.is_available() else \"cpu\")\n"
   ]
  },
  {
   "cell_type": "code",
   "execution_count": 0,
   "metadata": {
    "colab": {},
    "colab_type": "code",
    "id": "gs0REqTssqiX"
   },
   "outputs": [],
   "source": [
    "def draw_kpts(img, kpts, c='red', r=2.0):\n",
    "    '''\n",
    "    Draw `kpts` on `img`. `img` is modified inplace.\n",
    "    Args:\n",
    "        img: (PIL.Image) the image to be drawn\n",
    "        kpts: (torch.tensor) the normalized positions (x, y) of keypoints, shaped [4, 2]\n",
    "        c: (str) color\n",
    "        r: (float) radius of the drawn circle\n",
    "    Return:\n",
    "        img: (PIL.Image) the result.\n",
    "    '''\n",
    "    draw = ImageDraw.Draw(img)\n",
    "    size = torch.tensor([img.size]).float()\n",
    "    kpts = kpts.view(4, 2) * size\n",
    "    kpts = kpts.numpy().tolist()\n",
    "    for x, y in kpts:\n",
    "        draw.ellipse([x - r, y - r, x + r, y + r], fill=c)\n",
    "    return img"
   ]
  },
  {
   "cell_type": "code",
   "execution_count": 5,
   "metadata": {
    "colab": {
     "base_uri": "https://localhost:8080/",
     "height": 337
    },
    "colab_type": "code",
    "executionInfo": {
     "elapsed": 81142,
     "status": "ok",
     "timestamp": 1575973537288,
     "user": {
      "displayName": "Hank Huang",
      "photoUrl": "",
      "userId": "09805881446555873952"
     },
     "user_tz": -480
    },
    "id": "460rK5ASsqiZ",
    "outputId": "ea979a8a-2f0a-4108-cdec-e93baa79b558"
   },
   "outputs": [
    {
     "name": "stdout",
     "output_type": "stream",
     "text": [
      "3000\n",
      "torch.Size([3, 320, 192])\n",
      "tensor(1.)\n",
      "torch.Size([8])\n"
     ]
    },
    {
     "data": {
      "image/png": "[encoded data removed]",
      "text/plain": [
       "<Figure size 432x288 with 1 Axes>"
      ]
     },
     "metadata": {
      "tags": []
     },
     "output_type": "display_data"
    }
   ],
   "source": [
    "class TrainData(Dataset):\n",
    "    def __init__(self, csv_path, img_dir):\n",
    "        super().__init__()\n",
    "        self.anns = pd.read_csv(csv_path).to_dict('records') # List of Dict\n",
    "        self.img_dir = Path(img_dir)\n",
    "\n",
    "    def __len__(self):\n",
    "        '''Return the number of sample\n",
    "        '''\n",
    "        return len(self.anns)\n",
    "\n",
    "\n",
    "    def __getitem__(self, idx):\n",
    "        '''Map index `idx` to a sample, i.e., an image and its keypoints\n",
    "\n",
    "        Args:\n",
    "            idx: (int) index\n",
    "        Return:\n",
    "            img: (torch.FloatTensor) values in 0 ~ 1 and shaped [3, H, W]\n",
    "            kpt: (torch.FloatTensor) normalized positions of \n",
    "                bottom-right, bottom-left, top-left, top-right corners. \n",
    "                For example, position (256, 256) of an (512, 512) image should be (0.5, 0.5)\n",
    "                `kpt` should have same order as `FIELDS` and is shaped [8].\n",
    "        '''\n",
    "        tmp = self.anns[idx]\n",
    "        image = Image.open(self.img_dir / tmp['name'])\n",
    "        H, W = image.size\n",
    "        image = image.resize(IMG_SIZE)\n",
    "        img = tf.to_tensor(image)\n",
    "        \n",
    "        k = (np.array([tmp[i] for i in FIELDS]).reshape(4,2))/[H, W]\n",
    "        k = k.reshape((-1,))\n",
    "        kpt = torch.from_numpy(k).float()\n",
    "\n",
    "        return img, kpt\n",
    "\n",
    "\n",
    "# Do some checking and visualization\n",
    "data = TrainData(ROOT_DIR / 'train.csv', ROOT_DIR / 'train_images')\n",
    "print(len(data))    # should be 3000\n",
    "\n",
    "img, kpt = data[-1] # get a sample\n",
    "print(img.size())   # should be [3, H, W]\n",
    "print(img.max())    # should be <= 1.0\n",
    "print(kpt.size())   # should be [8]\n",
    "\n",
    "img = tf.to_pil_image(img) # convert tensor of shape (3, H, W) to PIL.Image\n",
    "vis = draw_kpts(img, kpt, c='orange')\n",
    "plt.imshow(vis)\n",
    "plt.show()"
   ]
  },
  {
   "cell_type": "code",
   "execution_count": 0,
   "metadata": {
    "colab": {},
    "colab_type": "code",
    "id": "OZowbLQSsqib"
   },
   "outputs": [],
   "source": [
    "class ConvBlock(nn.Module):\n",
    "    def __init__(self, cin, cout):\n",
    "        super().__init__() # necessary\n",
    "        self.conv = nn.Conv2d(cin, cout, (3, 3), padding=1)\n",
    "        self.bn = nn.BatchNorm2d(cout)\n",
    "        self.relu = nn.ReLU()\n",
    "\n",
    "    def forward(self, x):\n",
    "        x = self.conv(x)\n",
    "        x = self.bn(x)\n",
    "        x = self.relu(x)\n",
    "        return x\n",
    "    "
   ]
  },
  {
   "cell_type": "code",
   "execution_count": 7,
   "metadata": {
    "colab": {
     "base_uri": "https://localhost:8080/",
     "height": 68
    },
    "colab_type": "code",
    "executionInfo": {
     "elapsed": 86711,
     "status": "ok",
     "timestamp": 1575973542864,
     "user": {
      "displayName": "Hank Huang",
      "photoUrl": "",
      "userId": "09805881446555873952"
     },
     "user_tz": -480
    },
    "id": "3TJg6ffwsqid",
    "outputId": "9e7bd0fc-1890-4b52-c29f-b5ec99291f53"
   },
   "outputs": [
    {
     "name": "stdout",
     "output_type": "stream",
     "text": [
      "torch.Size([10, 3, 320, 192])\n",
      "torch.Size([10, 8])\n",
      "tensor(0.1244, device='cuda:0', grad_fn=<L1LossBackward>)\n"
     ]
    }
   ],
   "source": [
    "class Net(nn.Module):\n",
    "    def __init__(self):\n",
    "        '''Defines parameters (what layers you gonna use)\n",
    "        '''\n",
    "        super().__init__() # necessary\n",
    "        self.features = nn.Sequential(\n",
    "            ConvBlock(3, 32),\n",
    "            ConvBlock(32, 32),\n",
    "            nn.MaxPool2d((4, 4)),\n",
    "            ConvBlock(32, 32),\n",
    "            ConvBlock(32, 32),\n",
    "            nn.MaxPool2d((2, 2)),\n",
    "            ConvBlock(32, 32),\n",
    "            ConvBlock(32, 32),\n",
    "            nn.MaxPool2d((2, 2)),\n",
    "            ConvBlock(32, 32),\n",
    "            ConvBlock(32, 32),\n",
    "            nn.MaxPool2d((2, 2)),\n",
    "            ConvBlock(32, 32),\n",
    "            ConvBlock(32, 32),\n",
    "            nn.MaxPool2d((2, 2)),\n",
    "        )\n",
    "        self.regression = nn.Sequential(\n",
    "            nn.Flatten(), nn.Linear(480, 32), nn.ReLU(), nn.Linear(32, 8), nn.Sigmoid()\n",
    "        )\n",
    "\n",
    "    def forward(self, img_b):\n",
    "        '''Define how layers are interact, that is, the forward function.\n",
    "        In this network, img_b is passed to self.features and \n",
    "        the result is passed to self.regression.\n",
    "\n",
    "        Args:\n",
    "            img_b: (torch.FloatTensor) input images (mini-batch), shaped [N, 3, H, W]\n",
    "        Return:\n",
    "            kpt_b: (torch.FloatTensor) the predictions (mini-batch), shaped [N, 8]\n",
    "        '''\n",
    "        out = self.features(img_b)\n",
    "        out = self.regression(out)\n",
    "        \n",
    "        return out\n",
    "\n",
    "\n",
    "# Do some checking\n",
    "loader = DataLoader(data, batch_size=10) # dataloader constructs mini-batch from a dataset\n",
    "img_b, kpt_b = next(iter(loader)) # get an mini-batch\n",
    "print(img_b.size()) # expects [N, 3, H, W]\n",
    "print(kpt_b.size()) # expects [N, 8]\n",
    "\n",
    "# Do a forwarding\n",
    "device = 'cuda'     # the computing device, 'cuda' or 'cpu'\n",
    "model = Net().to(device) # instantiate network and move it to device\n",
    "criterion = nn.L1Loss()  # the criterion (loss function)\n",
    "\n",
    "img_b = img_b.to(device)\n",
    "kpt_b = kpt_b.to(device)\n",
    "pred_b = model(img_b)\n",
    "loss = criterion(pred_b, kpt_b)\n",
    "print(loss)"
   ]
  },
  {
   "cell_type": "code",
   "execution_count": 0,
   "metadata": {
    "colab": {},
    "colab_type": "code",
    "id": "pUtjuGUhsqif"
   },
   "outputs": [],
   "source": [
    "# Help converge the training\n",
    "def decrease_lr(a,b):\n",
    "    global Learning_rate\n",
    "    if abs(a-b) < a*5e-1:\n",
    "        Learning_rate /= 10"
   ]
  },
  {
   "cell_type": "code",
   "execution_count": 9,
   "metadata": {
    "colab": {
     "base_uri": "https://localhost:8080/",
     "height": 623
    },
    "colab_type": "code",
    "executionInfo": {
     "elapsed": 958857,
     "status": "ok",
     "timestamp": 1575974415017,
     "user": {
      "displayName": "Hank Huang",
      "photoUrl": "",
      "userId": "09805881446555873952"
     },
     "user_tz": -480
    },
    "id": "zMD8OolKsqig",
    "outputId": "a41dd026-7c73-4426-820d-f0e57fbf71d2"
   },
   "outputs": [
    {
     "name": "stdout",
     "output_type": "stream",
     "text": [
      "save parameter!\n"
     ]
    },
    {
     "name": "stderr",
     "output_type": "stream",
     "text": [
      "/usr/local/lib/python3.6/dist-packages/torch/serialization.py:292: UserWarning: Couldn't retrieve source code for container of type Net. It won't be checked for correctness upon loading.\n",
      "  \"type \" + obj.__name__ + \". It won't be checked \"\n",
      "/usr/local/lib/python3.6/dist-packages/torch/serialization.py:292: UserWarning: Couldn't retrieve source code for container of type Sequential. It won't be checked for correctness upon loading.\n",
      "  \"type \" + obj.__name__ + \". It won't be checked \"\n",
      "/usr/local/lib/python3.6/dist-packages/torch/serialization.py:292: UserWarning: Couldn't retrieve source code for container of type ConvBlock. It won't be checked for correctness upon loading.\n",
      "  \"type \" + obj.__name__ + \". It won't be checked \"\n",
      "/usr/local/lib/python3.6/dist-packages/torch/serialization.py:292: UserWarning: Couldn't retrieve source code for container of type Conv2d. It won't be checked for correctness upon loading.\n",
      "  \"type \" + obj.__name__ + \". It won't be checked \"\n",
      "/usr/local/lib/python3.6/dist-packages/torch/serialization.py:292: UserWarning: Couldn't retrieve source code for container of type BatchNorm2d. It won't be checked for correctness upon loading.\n",
      "  \"type \" + obj.__name__ + \". It won't be checked \"\n",
      "/usr/local/lib/python3.6/dist-packages/torch/serialization.py:292: UserWarning: Couldn't retrieve source code for container of type ReLU. It won't be checked for correctness upon loading.\n",
      "  \"type \" + obj.__name__ + \". It won't be checked \"\n",
      "/usr/local/lib/python3.6/dist-packages/torch/serialization.py:292: UserWarning: Couldn't retrieve source code for container of type MaxPool2d. It won't be checked for correctness upon loading.\n",
      "  \"type \" + obj.__name__ + \". It won't be checked \"\n",
      "/usr/local/lib/python3.6/dist-packages/torch/serialization.py:292: UserWarning: Couldn't retrieve source code for container of type Flatten. It won't be checked for correctness upon loading.\n",
      "  \"type \" + obj.__name__ + \". It won't be checked \"\n",
      "/usr/local/lib/python3.6/dist-packages/torch/serialization.py:292: UserWarning: Couldn't retrieve source code for container of type Linear. It won't be checked for correctness upon loading.\n",
      "  \"type \" + obj.__name__ + \". It won't be checked \"\n",
      "/usr/local/lib/python3.6/dist-packages/torch/serialization.py:292: UserWarning: Couldn't retrieve source code for container of type Sigmoid. It won't be checked for correctness upon loading.\n",
      "  \"type \" + obj.__name__ + \". It won't be checked \"\n"
     ]
    },
    {
     "data": {
      "image/png": "[encoded data removed]",
      "text/plain": [
       "<Figure size 432x288 with 1 Axes>"
      ]
     },
     "metadata": {
      "tags": []
     },
     "output_type": "display_data"
    }
   ],
   "source": [
    "class Trainer:\n",
    "    def __init__(self, log_dir):\n",
    "        '''Initialize the varibles for training\n",
    "        Args:\n",
    "            log_dir: (pathlib.Path) the direction used for logging\n",
    "        '''\n",
    "        self.log_dir = log_dir\n",
    "\n",
    "        # Datasets and dataloaders\n",
    "        # 1. Split the whole training data into train and valid (validation)\n",
    "        # 2. Construct visualization data (25 training samples, 25 validation samples)\n",
    "        # 3. Make the corresponding dataloaders\n",
    "        data = TrainData(ROOT_DIR / 'train.csv', ROOT_DIR / 'train_images')\n",
    "        pivot = len(data) * 4 // 5\n",
    "        self.pivot = pivot\n",
    "        self.train_set = Subset(data, range(0, pivot))\n",
    "        self.valid_set = Subset(data, range(pivot, len(data)))\n",
    "        self.visul_set = ConcatDataset(\n",
    "            [\n",
    "                Subset(self.train_set, random.sample(range(len(self.train_set)), k=25)),\n",
    "                Subset(self.valid_set, random.sample(range(len(self.valid_set)), k=25)),\n",
    "            ]\n",
    "        )\n",
    "        self.train_loader = DataLoader(self.train_set, 10, shuffle=True, num_workers=4)\n",
    "        self.valid_loader = DataLoader(self.valid_set, 10, shuffle=False, num_workers=4)\n",
    "        self.visul_loader = DataLoader(self.visul_set, 10, shuffle=False)\n",
    "\n",
    "        # model, loss function, optimizer\n",
    "        self.device = 'cuda'\n",
    "        self.model = Net().to(self.device)\n",
    "        self.criterion = nn.L1Loss()\n",
    "        self.optimizer = torch.optim.Adam(self.model.parameters(), lr=Learning_rate)\n",
    "        self.max_epoch = 20\n",
    "\n",
    "    def run(self):\n",
    "        metrics = {'train_loss': [], 'valid_loss': []}\n",
    "\n",
    "        for self.epoch in range(self.max_epoch): # 5 epochs\n",
    "            train_loss = self.train() # train 1 epoch\n",
    "            valid_loss = self.valid() # valid 1 epoch\n",
    "            self.visul()              # visualization\n",
    "\n",
    "            #print(f'Epoch {self.epoch:03d}:')\n",
    "            #print('train loss:', train_loss)\n",
    "            #print('valid loss:', valid_loss)\n",
    "            metrics['train_loss'].append(train_loss)\n",
    "            metrics['valid_loss'].append(valid_loss)\n",
    "            \n",
    "            decrease_lr(valid_loss,train_loss)\n",
    "            \n",
    "        # Save the parameters(weights) of the model to disk\n",
    "        torch.save(self.model, self.log_dir / 'model.pkl')\n",
    "        print('save parameter!')\n",
    "        \n",
    "        # Plot the loss curve against epoch\n",
    "        plt.plot(metrics['train_loss'] , color = 'b', label = 'train loss')\n",
    "        plt.plot(metrics['valid_loss'] , color = 'g', label = 'validation loss')\n",
    "        plt.legend(loc='upper right')\n",
    "        plt.show()\n",
    "        %matplotlib inline\n",
    "\n",
    "    def train(self):\n",
    "        '''Train one epoch\n",
    "        1. Switch model to training mode\n",
    "        2. Iterate mini-batches and do:\n",
    "            a. clear gradient\n",
    "            b. forward to get loss\n",
    "            c. loss backward\n",
    "            d. update parameters\n",
    "        3. Return the average loss in this epoch\n",
    "        '''\n",
    "        # Switch model to training mode\n",
    "        self.model.train()\n",
    "        \n",
    "        # first append, then mean over all !!\n",
    "        train_loss = []\n",
    "        \n",
    "        for i, data in enumerate(self.train_loader):\n",
    "            \n",
    "            # get input\n",
    "            train, label = data\n",
    "            \n",
    "            # clear gradient\n",
    "            self.optimizer.zero_grad()\n",
    "            \n",
    "            # forward\n",
    "            train = train.cuda()\n",
    "            pred = self.model(train)\n",
    "            \n",
    "            # loss\n",
    "            label = label.cuda()\n",
    "            loss = self.criterion(pred, label)\n",
    "            \n",
    "            train_loss.append(loss.item())\n",
    "            \n",
    "            # accumulate gradient \n",
    "            loss.backward()\n",
    "            \n",
    "            # update parameters\n",
    "            self.optimizer.step()\n",
    "        \n",
    "        \n",
    "        return np.mean(train_loss)\n",
    "\n",
    "    @torch.no_grad()\n",
    "    def valid(self):\n",
    "        '''Validate one epoch\n",
    "        1. Switch model to evaluation mode and turn off gradient (by @torch.no_grad() or with torch.no_grad())\n",
    "        2. Iterate mini-batches and do forwarding to get loss\n",
    "        3. Return average loss in this epoch\n",
    "        '''\n",
    "        \n",
    "        self.model.eval()\n",
    "        \n",
    "        with torch.no_grad():\n",
    "            valid_loss = []\n",
    "            \n",
    "            for i, data in enumerate(self.train_loader):\n",
    "                # forward \n",
    "                valid = data[0].cuda()\n",
    "                pred = self.model(valid)\n",
    "                \n",
    "                # loss\n",
    "                label = data[1].cuda()\n",
    "                loss = self.criterion(pred, label) \n",
    "                \n",
    "                valid_loss.append(loss.item())\n",
    "        \n",
    "        return np.mean(valid_loss)\n",
    "\n",
    "    @torch.no_grad()\n",
    "    def visul(self):\n",
    "        ''' Visualize some samples\n",
    "        1. Switch model to evaluation mode and turn off gradient (by @torch.no_grad() or with torch.no_grad())\n",
    "        2. Iterate mini-batches and do:\n",
    "            a. forward to get predictions\n",
    "            b. visualize and save visualization to log_dir / f'{epoch:03d}'\n",
    "        As a result, first 25 samples are from training data and last 25 samples are from validation.\n",
    "        '''\n",
    "        self.model.eval()\n",
    "        epoch_dir = self.log_dir / f'{self.epoch:03d}'\n",
    "        epoch_dir.mkdir(parents=True)\n",
    "        idx = 0\n",
    "\n",
    "        for img_b, kpt_b in iter(self.visul_loader):\n",
    "            pred_b = self.model(img_b.to(self.device)).to('cpu')\n",
    "            for img, kpt, pred in zip(img_b, kpt_b, pred_b):\n",
    "                img = tf.to_pil_image(img)\n",
    "                vis = draw_kpts(img, kpt, c='orange')\n",
    "                vis = draw_kpts(img, pred, c='red')\n",
    "                vis.save(epoch_dir / f'{idx:03d}.jpg')\n",
    "                idx += 1\n",
    "  \n",
    "                         \n",
    "                \n",
    "log_dir = Path('./runs/') / f'{datetime.now():%b.%d %H:%M:%S}'\n",
    "log_dir.mkdir(parents=True)\n",
    "Trainer(log_dir).run()\n"
   ]
  },
  {
   "cell_type": "code",
   "execution_count": 10,
   "metadata": {
    "colab": {
     "base_uri": "https://localhost:8080/",
     "height": 34
    },
    "colab_type": "code",
    "executionInfo": {
     "elapsed": 992558,
     "status": "ok",
     "timestamp": 1575974448725,
     "user": {
      "displayName": "Hank Huang",
      "photoUrl": "",
      "userId": "09805881446555873952"
     },
     "user_tz": -480
    },
    "id": "honYMW4Vsqik",
    "outputId": "555274f3-0be3-471e-d805-4ef5dd32b5ce"
   },
   "outputs": [
    {
     "name": "stdout",
     "output_type": "stream",
     "text": [
      "done\n"
     ]
    }
   ],
   "source": [
    "# Do testing\n",
    "def TestData():\n",
    "    # model\n",
    "    device = 'cuda'\n",
    "    model = Net().to(device)\n",
    "    PATH = log_dir / 'model.pkl'\n",
    "    model = torch.load(PATH)\n",
    "    model.eval()\n",
    "    test_pred = []\n",
    "    index = []\n",
    "    \n",
    "    for i in range(3000):\n",
    "        # get file name\n",
    "        name = \"{0:0=4d}\".format(i)+'.jpg'\n",
    "        img_path = Path(ROOT_DIR / 'test_images') / Path(name)\n",
    "        # Read img\n",
    "        image = Image.open(img_path)\n",
    "        H,W = image.size\n",
    "        \n",
    "        image = image.resize(IMG_SIZE)\n",
    "        img = tf.to_tensor(image).to(device)\n",
    "        img = torch.unsqueeze(img, 0)\n",
    "        out = model(img).cpu().detach().numpy()\n",
    "        \n",
    "        # predict where the original position is\n",
    "        pred = np.round(out[0]*[H,W,H,W,H,W,H,W],2)\n",
    "        \n",
    "        # for final output\n",
    "        test_pred.append(pred)\n",
    "        \n",
    "        # for index\n",
    "        index.append(name)\n",
    "    return test_pred, index\n",
    "\n",
    "\n",
    "test_pred, index = TestData()\n",
    "df = pd.DataFrame(test_pred, columns=FIELDS, index = index)\n",
    "df.index.name = 'name'\n",
    "df.to_csv('test_prediction.csv')\n",
    "print('done')"
   ]
  },
  {
   "cell_type": "code",
   "execution_count": 11,
   "metadata": {
    "colab": {
     "base_uri": "https://localhost:8080/",
     "height": 337
    },
    "colab_type": "code",
    "executionInfo": {
     "elapsed": 992554,
     "status": "ok",
     "timestamp": 1575974448726,
     "user": {
      "displayName": "Hank Huang",
      "photoUrl": "",
      "userId": "09805881446555873952"
     },
     "user_tz": -480
    },
    "id": "zhyzfCiosqin",
    "outputId": "a4c6a46c-36b0-4aad-97fc-f149d8bc5fb8"
   },
   "outputs": [
    {
     "data": {
      "image/jpeg": "[encoded data removed]",
      "text/plain": [
       "<IPython.core.display.Image object>"
      ]
     },
     "execution_count": 11,
     "metadata": {
      "tags": []
     },
     "output_type": "execute_result"
    }
   ],
   "source": [
    "display.Image(str(log_dir / '004' / '000.jpg')) # A visualization of training data in epoch 4"
   ]
  },
  {
   "cell_type": "code",
   "execution_count": 12,
   "metadata": {
    "colab": {
     "base_uri": "https://localhost:8080/",
     "height": 337
    },
    "colab_type": "code",
    "executionInfo": {
     "elapsed": 992550,
     "status": "ok",
     "timestamp": 1575974448727,
     "user": {
      "displayName": "Hank Huang",
      "photoUrl": "",
      "userId": "09805881446555873952"
     },
     "user_tz": -480
    },
    "id": "7t7_hv0dVtfK",
    "outputId": "a9cd5474-8395-4a0f-88a8-4eb36586e017"
   },
   "outputs": [
    {
     "data": {
      "image/jpeg": "[encoded data removed]",
      "text/plain": [
       "<IPython.core.display.Image object>"
      ]
     },
     "execution_count": 12,
     "metadata": {
      "tags": []
     },
     "output_type": "execute_result"
    }
   ],
   "source": [
    "display.Image(str(log_dir / '005' / '007.jpg')) # A visualization of training data in epoch 4"
   ]
  },
  {
   "cell_type": "code",
   "execution_count": 13,
   "metadata": {
    "colab": {
     "base_uri": "https://localhost:8080/",
     "height": 170
    },
    "colab_type": "code",
    "executionInfo": {
     "elapsed": 996858,
     "status": "ok",
     "timestamp": 1575974453040,
     "user": {
      "displayName": "Hank Huang",
      "photoUrl": "",
      "userId": "09805881446555873952"
     },
     "user_tz": -480
    },
    "id": "PsHuRGXEqNhH",
    "outputId": "ba65b2e6-41e3-4769-f416-115519de7a7e"
   },
   "outputs": [
    {
     "name": "stdout",
     "output_type": "stream",
     "text": [
      "HTTP/1.1 100 Continue\r\n",
      "\n",
      "HTTP/1.0 200 OK\n",
      "Content-Type: application/json\n",
      "Content-Length: 16\n",
      "Server: Werkzeug/0.16.0 Python/3.7.5\n",
      "Date: Tue, 10 Dec 2019 10:40:50 GMT\n",
      "\n",
      "{\"rmse\":14.237}\n"
     ]
    }
   ],
   "source": [
    "!curl -F \"file=@test_prediction.csv\" -X POST 140.114.76.113:5000/cs6550 -i"
   ]
  }
 ],
 "metadata": {
  "accelerator": "GPU",
  "colab": {
   "collapsed_sections": [],
   "name": "pB.ipynb",
   "provenance": []
  },
  "kernelspec": {
   "display_name": "Python 3",
   "language": "python",
   "name": "python3"
  },
  "language_info": {
   "codemirror_mode": {
    "name": "ipython",
    "version": 3
   },
   "file_extension": ".py",
   "mimetype": "text/x-python",
   "name": "python",
   "nbconvert_exporter": "python",
   "pygments_lexer": "ipython3",
   "version": "3.6.9"
  }
 },
 "nbformat": 4,
 "nbformat_minor": 1
}
